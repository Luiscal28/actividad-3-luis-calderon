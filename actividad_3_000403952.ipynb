{
  "cells": [
    {
      "cell_type": "markdown",
      "metadata": {
        "id": "view-in-github",
        "colab_type": "text"
      },
      "source": [
        "<a href=\"https://colab.research.google.com/github/Luiscal28/actividad-3-luis-calderon/blob/main/actividad_3_000403952.ipynb\" target=\"_parent\"><img src=\"https://colab.research.google.com/assets/colab-badge.svg\" alt=\"Open In Colab\"/></a>"
      ]
    },
    {
      "cell_type": "markdown",
      "source": [
        "# Actividad Evaluativa 3\n",
        "\n",
        " *Hecho por:* Luis Eduardo Calderon Jimenez\n",
        "\n",
        " *Correo Instituional:* luis.calderonj@upb.edu.co\n",
        "\n",
        "  *Fecha:* 22 de marzo de 2024"
      ],
      "metadata": {
        "id": "FrOUlPix60fx"
      }
    },
    {
      "cell_type": "code",
      "source": [
        "import math\n",
        "frecuencia = int(input(\"Ingrese la frecuencia de la señal: \"))\n",
        "MEDIA = 1000\n",
        "DESVIACION = 300\n",
        "PORCENTAJE = 0.3\n",
        "pa = 0\n",
        "if frecuencia <= 0:\n",
        "    print(\"The frequency must be greater than 0.\")\n",
        "else:\n",
        "   for f in range(frecuencia):\n",
        "       resultado = (1 / (DESVIACION * math.sqrt(2 * math.pi))) * math.exp(-(1/2) * ((f - MEDIA) / DESVIACION) ** 2)\n",
        "       pa += resultado\n",
        "   if pa > PORCENTAJE:\n",
        "       print(pa)\n",
        "       print(\"La señal pasa el filtro.\")\n",
        "   else:\n",
        "       print(pa)\n",
        "       print(\"La señal es bloqueada por el filtro.\")"
      ],
      "metadata": {
        "colab": {
          "base_uri": "https://localhost:8080/"
        },
        "id": "HnjCn0or0ikd",
        "outputId": "5fec2c79-bd24-464f-eaad-9a60492e7852"
      },
      "execution_count": 62,
      "outputs": [
        {
          "output_type": "stream",
          "name": "stdout",
          "text": [
            "Ingrese la frecuencia de la señal: 844\n",
            "0.30052463985682765\n",
            "La señal pasa el filtro.\n"
          ]
        }
      ]
    },
    {
      "cell_type": "code",
      "source": [],
      "metadata": {
        "id": "RIk8BjLsyqGL"
      },
      "execution_count": null,
      "outputs": []
    }
  ],
  "metadata": {
    "colab": {
      "name": "Te damos la bienvenida a Colaboratory",
      "toc_visible": true,
      "provenance": [],
      "include_colab_link": true
    },
    "kernelspec": {
      "display_name": "Python 3",
      "name": "python3"
    }
  },
  "nbformat": 4,
  "nbformat_minor": 0
}