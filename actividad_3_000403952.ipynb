{
  "cells": [
    {
      "cell_type": "markdown",
      "metadata": {
        "id": "view-in-github",
        "colab_type": "text"
      },
      "source": [
        "<a href=\"https://colab.research.google.com/github/Luiscal28/actividad-3-luis-calderon/blob/main/actividad_3_000403952.ipynb\" target=\"_parent\"><img src=\"https://colab.research.google.com/assets/colab-badge.svg\" alt=\"Open In Colab\"/></a>"
      ]
    },
    {
      "cell_type": "code",
      "source": [
        "import math\n",
        "MEDIA = 1000\n",
        "DESVIO = 300\n",
        "PORCENTAJE = 0.3\n",
        "pa = 0\n",
        "freq = int(input(\"Enter the frequency of the signal: \"))\n",
        "if freq <= 0:\n",
        "    print(\"The frequency must be greater than 0.\")\n",
        "else:\n",
        "    for f in range(freq + 1):\n",
        "     resultaldo = (1 / (DESVIO * math.sqrt(2 * math.pi))) * math.exp(-(1/2) * ((f - MEDIA) / DESVIO) ** 2)\n",
        "    pa += resultado\n",
        "if pa > PORCENTAJE:\n",
        "    print(resultado)\n",
        "    print(\"La señal pasa el filtro.\")\n",
        "else:\n",
        "    print(resultado)\n",
        "    print(\"La señal es bloqueada por el filtro.\")"
      ],
      "metadata": {
        "id": "p5TgHTBtxgtT",
        "outputId": "897e8cee-5786-46c6-cc39-ce16a85cc7b8",
        "colab": {
          "base_uri": "https://localhost:8080/"
        }
      },
      "execution_count": 47,
      "outputs": [
        {
          "output_type": "stream",
          "name": "stdout",
          "text": [
            "Enter the frequency of the signal: 1200\n",
            "0.0010648266850745074\n"
          ]
        }
      ]
    },
    {
      "cell_type": "code",
      "source": [
        "import math\n",
        "frecuencia = int(input(\"Ingrese la frecuencia de la señal: \"))\n",
        "MEDIA = 1000\n",
        "DESVIACION = 300\n",
        "PORCENTAJE = 0.3\n",
        "pa = 0\n",
        "if frecuencia <= 0:\n",
        "    print(\"The frequency must be greater than 0.\")\n",
        "else:\n",
        "   for f in range(frecuencia + 1):\n",
        "       resultado = (1 / (DESVIACION * math.sqrt(2 * math.pi))) * math.exp(-(1/2) * ((f - MEDIA) / DESVIACION) ** 2)\n",
        "       pa += resultado\n",
        "   if pa > PORCENTAJE:\n",
        "       print(resultado)\n",
        "       print(\"La señal pasa el filtro.\")\n",
        "   else:\n",
        "       print(resultado)\n",
        "       print(\"La señal es bloqueada por el filtro.\")"
      ],
      "metadata": {
        "id": "HnjCn0or0ikd",
        "outputId": "fef25cff-227f-4440-d926-ec410de7390e",
        "colab": {
          "base_uri": "https://localhost:8080/"
        }
      },
      "execution_count": 56,
      "outputs": [
        {
          "output_type": "stream",
          "name": "stdout",
          "text": [
            "Ingrese la frecuencia de la señal: 1200\n",
            "0.0010648266850745074\n",
            "La señal pasa el filtro.\n"
          ]
        }
      ]
    },
    {
      "cell_type": "code",
      "source": [],
      "metadata": {
        "id": "RIk8BjLsyqGL"
      },
      "execution_count": null,
      "outputs": []
    }
  ],
  "metadata": {
    "colab": {
      "name": "Te damos la bienvenida a Colaboratory",
      "toc_visible": true,
      "provenance": [],
      "include_colab_link": true
    },
    "kernelspec": {
      "display_name": "Python 3",
      "name": "python3"
    }
  },
  "nbformat": 4,
  "nbformat_minor": 0
}